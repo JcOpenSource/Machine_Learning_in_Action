{
 "cells": [
  {
   "cell_type": "markdown",
   "metadata": {},
   "source": [
    "本节重点：\n",
    "* SVM有很多实现，本章只关注一种__序列最小优化（Sequential Minimal Optimization，SMO）__算法\n",
    "* 用__核函数（Kernel）__的方式扩展SVM\n",
    "* 通过SVM提升手写识别效率"
   ]
  },
  {
   "cell_type": "markdown",
   "metadata": {},
   "source": [
    "<img src='fig\\1.png' width='500'> "
   ]
  },
  {
   "cell_type": "markdown",
   "metadata": {},
   "source": [
    "图A是线形可分的"
   ]
  },
  {
   "cell_type": "markdown",
   "metadata": {},
   "source": [
    "分割数据的直线叫做__分隔超平面(Sewarating hyperplane)__。也就是分类的决策边界。"
   ]
  },
  {
   "cell_type": "markdown",
   "metadata": {},
   "source": [
    "<img src='fig\\2.png' width='500'> "
   ]
  },
  {
   "cell_type": "markdown",
   "metadata": {},
   "source": [
    "我们希望找最大离分隔平面最近的点，确保它们离分隔平面的距离尽可能的远。点到分隔面的距离称为__间隔（margin）__。"
   ]
  },
  {
   "cell_type": "markdown",
   "metadata": {},
   "source": [
    "__支持向量（suport vector）__就是离分隔超平面最近的那些点。"
   ]
  },
  {
   "cell_type": "markdown",
   "metadata": {},
   "source": [
    "## 如何确定最佳分隔直线"
   ]
  },
  {
   "cell_type": "markdown",
   "metadata": {},
   "source": [
    "* 分隔平面的：$\\textbf{$ w^Tx $}+b$\n",
    "* 给定点到分隔线的距离（法线 或者 垂线 的长度）：$ \\frac{|  \\textbf{$ w^Tx $}+b|}{||\\textbf{w}||}$"
   ]
  },
  {
   "cell_type": "markdown",
   "metadata": {},
   "source": [
    "<img src='fig\\3.png' width='300'> "
   ]
  },
  {
   "cell_type": "code",
   "execution_count": null,
   "metadata": {
    "collapsed": true
   },
   "outputs": [],
   "source": []
  }
 ],
 "metadata": {
  "kernelspec": {
   "display_name": "Python 2",
   "language": "python",
   "name": "python2"
  },
  "language_info": {
   "codemirror_mode": {
    "name": "ipython",
    "version": 2
   },
   "file_extension": ".py",
   "mimetype": "text/x-python",
   "name": "python",
   "nbconvert_exporter": "python",
   "pygments_lexer": "ipython2",
   "version": "2.7.13"
  }
 },
 "nbformat": 4,
 "nbformat_minor": 2
}
