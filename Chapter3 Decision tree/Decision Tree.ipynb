{
 "cells": [
  {
   "cell_type": "markdown",
   "metadata": {},
   "source": [
    "# <center>Decision Tree 决策树</center>\n",
    "使用概率测量方法处理分类问题\n",
    "\n",
    "\n",
    "分类系统：\n",
    "* decision block 判断模块    长方形\n",
    "* terminating block  终止模块  得出的结论  椭圆\n",
    "* branch 分支  左右箭头\n",
    "![1.png](1.png)\n",
    "（专家系统）\n",
    "\n",
    "决策树的原理： __通过推断分解，逐步缩小待猜测实物的范围。__\n",
    "\n",
    "决策树的一个重要任务是为了理解数据中所蕴含的知识信息。\n",
    " \n",
    "* 优势：计算复杂度不高，输出结果易于理解，对中间值得缺失不敏感，可以处理不相关特征数据\n",
    "* 缺点：可能会产生过度匹配的问题\n",
    "* 适用数据类型：数值型和标称型\n",
    "\n"
   ]
  },
  {
   "cell_type": "markdown",
   "metadata": {
    "collapsed": true
   },
   "source": [
    "##  3.1 决策树的构造\n",
    "\n",
    "##   信息论划分数据集\n",
    "### 问题1：当前数据集的哪些特征在划分数据类型起决定性作用？\n",
    "     方法：评估每个特征\n",
    "     "
   ]
  },
  {
   "cell_type": "markdown",
   "metadata": {},
   "source": [
    "### 3.1.1 信息增益\n",
    "__含义：在划分数据集之间之后信息发生的变化称为*信息增益*__\n",
    "\n",
    "__The change in information before and after the split is known as the *information gain*.__\n",
    "\n",
    "获得信息增益最高的特征就是最好的选择。\n",
    "\n",
    "#### 计算信息增益\n",
    "集合信息的度量方式称为__香农熵__ 或者简称为 __熵__  (信息论之父劳克德.香农)\n",
    "* 熵 entrop \n",
    "\n",
    "  定义：信息的期望\n",
    "  __信息__："
   ]
  },
  {
   "cell_type": "markdown",
   "metadata": {},
   "source": [
    "如果待分类的事务可能划分在多个分类之中，则符号$x_i$的信息定义为:\n",
    "    $$ l(x_i) = -\\log_{2}{p(x_i)} $$\n",
    "其中$p(x_i)$是该选择分类的概率"
   ]
  },
  {
   "cell_type": "markdown",
   "metadata": {},
   "source": [
    "所有类别所有可能值包含的信息期望值：$$p(x_i) =\\frac{x_i}{n}$$\n",
    "\n",
    "## 熵的计算公式：\n",
    "\n",
    "$$ H = -\\sum_{i=1}^{n}{p(x_i)\\log_{2}{p(x_i)}}$$\n",
    "n为分类的数目"
   ]
  },
  {
   "cell_type": "markdown",
   "metadata": {},
   "source": [
    "### 计算香农熵代码："
   ]
  },
  {
   "cell_type": "code",
   "execution_count": null,
   "metadata": {
    "collapsed": true
   },
   "outputs": [],
   "source": [
    "from math import log\n",
    "\n",
    "def calcShannonEnt(dataSet):\n",
    "    numEntries = len(dataSet)  计算数据中实例的总数\n",
    "    labelCounts = {}   创建一个数据字典，它的键值是最后一列的数值\n",
    "    1.为所有可能分类创建字典。\n",
    "    for featVec in dataSet:           dataSet 多维数组        #the the number of unique elements and their occurance\n",
    "        currentLabel = featVec[-1]         每次取一行数组\n",
    "        if currentLabel not in labelCounts.keys(): labelCounts[currentLabel] = 0\n",
    "        如果 currentLabel该数据的标签 不在 labelCounts中 则 labelCounts[currentLabel] = 0\n",
    "        labelCounts[currentLabel] += 1       给labelCounts字典 记录currentLabel数据标签  的 值\n",
    "        \n",
    "        以上步骤是为了统计标签的格式来方便计算概率\n",
    "        \n",
    "    shannonEnt = 0.0   香农熵float类型\n",
    "    for key in labelCounts:\n",
    "        prob = float(labelCounts[key])/numEntries     计算概率。\n",
    "        shannonEnt -= prob * log(prob,2)         利用香农公式求解信息熵    #log base 2  以2为底求对数\n",
    "    return shannonEnt"
   ]
  },
  {
   "cell_type": "code",
   "execution_count": 1,
   "metadata": {
    "collapsed": true
   },
   "outputs": [],
   "source": [
    "import trees"
   ]
  },
  {
   "cell_type": "markdown",
   "metadata": {},
   "source": [
    "```  \n",
    "创建数据\n",
    "def createDataSet():  \n",
    "    dataSet = [[1, 1, 'yes'],            dataSet的类型：数组\n",
    "               [1, 1, 'yes'],\n",
    "               [1, 0, 'no'],\n",
    "               [0, 1, 'no'],\n",
    "               [0, 1, 'no']]\n",
    "    labels = ['no surfacing','flippers']\n",
    "    #change to discrete values\n",
    "    return dataSet, labels\n",
    "```"
   ]
  },
  {
   "cell_type": "code",
   "execution_count": 2,
   "metadata": {
    "collapsed": true
   },
   "outputs": [],
   "source": [
    "myDat,labels = trees.createDataSet()"
   ]
  },
  {
   "cell_type": "code",
   "execution_count": 3,
   "metadata": {},
   "outputs": [
    {
     "data": {
      "text/plain": [
       "[[1, 1, 'yes'], [1, 1, 'yes'], [1, 0, 'no'], [0, 1, 'no'], [0, 1, 'no']]"
      ]
     },
     "execution_count": 3,
     "metadata": {},
     "output_type": "execute_result"
    }
   ],
   "source": [
    "myDat"
   ]
  },
  {
   "cell_type": "code",
   "execution_count": 4,
   "metadata": {},
   "outputs": [
    {
     "data": {
      "text/plain": [
       "0.9709505944546686"
      ]
     },
     "execution_count": 4,
     "metadata": {},
     "output_type": "execute_result"
    }
   ],
   "source": [
    "trees.calcShannonEnt(myDat) #计算香农熵"
   ]
  },
  {
   "cell_type": "markdown",
   "metadata": {},
   "source": [
    "__信息熵越高，则混合的数据越多__"
   ]
  },
  {
   "cell_type": "code",
   "execution_count": 5,
   "metadata": {
    "collapsed": true
   },
   "outputs": [],
   "source": [
    "myDat[0][-1] = 'maybe' #二维数组嘛~~"
   ]
  },
  {
   "cell_type": "code",
   "execution_count": 6,
   "metadata": {},
   "outputs": [
    {
     "data": {
      "text/plain": [
       "[[1, 1, 'maybe'], [1, 1, 'yes'], [1, 0, 'no'], [0, 1, 'no'], [0, 1, 'no']]"
      ]
     },
     "execution_count": 6,
     "metadata": {},
     "output_type": "execute_result"
    }
   ],
   "source": [
    "myDat"
   ]
  },
  {
   "cell_type": "code",
   "execution_count": 7,
   "metadata": {},
   "outputs": [
    {
     "data": {
      "text/plain": [
       "1.3709505944546687"
      ]
     },
     "execution_count": 7,
     "metadata": {},
     "output_type": "execute_result"
    }
   ],
   "source": [
    "trees.calcShannonEnt(myDat)"
   ]
  },
  {
   "cell_type": "code",
   "execution_count": 8,
   "metadata": {
    "collapsed": true
   },
   "outputs": [],
   "source": [
    "myDat[0][-1] = 'no'\n",
    "myDat[1][-1] = 'no'"
   ]
  },
  {
   "cell_type": "code",
   "execution_count": 9,
   "metadata": {},
   "outputs": [
    {
     "data": {
      "text/plain": [
       "[[1, 1, 'no'], [1, 1, 'no'], [1, 0, 'no'], [0, 1, 'no'], [0, 1, 'no']]"
      ]
     },
     "execution_count": 9,
     "metadata": {},
     "output_type": "execute_result"
    }
   ],
   "source": [
    "myDat"
   ]
  },
  {
   "cell_type": "code",
   "execution_count": 10,
   "metadata": {},
   "outputs": [
    {
     "data": {
      "text/plain": [
       "0.0"
      ]
     },
     "execution_count": 10,
     "metadata": {},
     "output_type": "execute_result"
    }
   ],
   "source": [
    "trees.calcShannonEnt(myDat)  "
   ]
  },
  {
   "cell_type": "markdown",
   "metadata": {},
   "source": [
    "__以上实验可以看出，当数据中不存在异类时，信息熵为0（即数据的混乱度无零）__"
   ]
  },
  {
   "cell_type": "markdown",
   "metadata": {},
   "source": [
    "### 3.1.2 划分数据集"
   ]
  },
  {
   "cell_type": "markdown",
   "metadata": {},
   "source": [
    "* 信息增益 information gain 熵的减少或者数据无序度的减少"
   ]
  },
  {
   "cell_type": "markdown",
   "metadata": {},
   "source": [
    "### 数据划分思路：对每个特征划分数据集的结果计算一次信息熵，然后判断按照哪个特征划分数据是最好的划分方法。"
   ]
  },
  {
   "cell_type": "markdown",
   "metadata": {},
   "source": [
    "#### 3-2 按照给定特征划分数据集"
   ]
  },
  {
   "cell_type": "code",
   "execution_count": null,
   "metadata": {
    "collapsed": true
   },
   "outputs": [],
   "source": [
    "def splitDataSet(dataSet, axis, value):   参数： dataSet待划分的数据集  axis 划分数据的特征（索引）  \n",
    "                                  value需要返回的特征的值（需要划分数据的特征值）\n",
    "    retDataSet = []\n",
    "    for featVec in dataSet:       featVec 是 dataSet 的一列数据\n",
    "        if featVec[axis] == value:\n",
    "        \n",
    "            reducedFeatVec = featVec[:axis]     #chop out axis used for splitting\n",
    "            reducedFeatVec.extend(featVec[axis+1:])\n",
    "            \n",
    "            reducedFeatVec 等于 剔除axis属性的featVec\n",
    "            \n",
    "            retDataSet.append(reducedFeatVec)\n",
    "    return retDataSet"
   ]
  },
  {
   "cell_type": "code",
   "execution_count": 11,
   "metadata": {
    "collapsed": true
   },
   "outputs": [],
   "source": [
    "myDat,labeks = trees.createDataSet()"
   ]
  },
  {
   "cell_type": "code",
   "execution_count": 12,
   "metadata": {},
   "outputs": [
    {
     "data": {
      "text/plain": [
       "[[1, 1, 'yes'], [1, 1, 'yes'], [1, 0, 'no'], [0, 1, 'no'], [0, 1, 'no']]"
      ]
     },
     "execution_count": 12,
     "metadata": {},
     "output_type": "execute_result"
    }
   ],
   "source": [
    "myDat"
   ]
  },
  {
   "cell_type": "code",
   "execution_count": 13,
   "metadata": {},
   "outputs": [
    {
     "data": {
      "text/plain": [
       "[[1, 'yes'], [1, 'yes'], [0, 'no']]"
      ]
     },
     "execution_count": 13,
     "metadata": {},
     "output_type": "execute_result"
    }
   ],
   "source": [
    "trees.splitDataSet(myDat,0,1)"
   ]
  },
  {
   "cell_type": "code",
   "execution_count": 14,
   "metadata": {},
   "outputs": [
    {
     "data": {
      "text/plain": [
       "[[1, 'no'], [1, 'no']]"
      ]
     },
     "execution_count": 14,
     "metadata": {},
     "output_type": "execute_result"
    }
   ],
   "source": [
    "trees.splitDataSet(myDat,0,0)"
   ]
  },
  {
   "cell_type": "markdown",
   "metadata": {},
   "source": [
    "#### 3-3 选择最好的数据划分方式\n",
    "循环计算香农熵和splitDataSet()函数，找到最好的特征划分方式。\n",
    "\n",
    "__熵计算__将会告诉我们如何划分__数据集是最好的数据组织方式__"
   ]
  },
  {
   "cell_type": "code",
   "execution_count": null,
   "metadata": {
    "collapsed": true
   },
   "outputs": [],
   "source": [
    "def chooseBestFeatureToSplit(dataSet):\n",
    "    numFeatures = len(dataSet[0]) - 1      #the last column is used for the labels 数据集的特征长度  不包括最后一项标签label\n",
    "    baseEntropy = calcShannonEnt(dataSet)  计算原始香农熵\n",
    "    bestInfoGain = 0.0 最好的香农熵; bestFeature = -1 最好的划分特征\n",
    "    for i in range(numFeatures):        #iterate over all the features 迭代所有的属性\n",
    "        featList = [example[i] for example in dataSet]   #create a list of all the examples of this feature\n",
    "        将数据集所有第i个特征值或者所有可能存在的值写入这个新的list中\n",
    "        uniqueVals = set(featList)       #get a set of unique values 获取集合\n",
    "        newEntropy = 0.0 新的香农熵\n",
    "        for value in uniqueVals:  #特征 当中的 值（多个）\n",
    "            subDataSet = splitDataSet(dataSet, i, value)  来分离数据/dataSet 第i个属性 等于 value的数据挑出来\n",
    "            prob = len(subDataSet)/float(len(dataSet)) 概率，所占比例\n",
    "            newEntropy += prob * calcShannonEnt(subDataSet) 香农熵叠加     \n",
    "        infoGain = baseEntropy - newEntropy     #calculate the info gain; ie reduction in entropy 信息增益\n",
    "        \n",
    "        \n",
    "        if (infoGain > bestInfoGain):       #compare this to the best gain so far\n",
    "            bestInfoGain = infoGain         #if better than current best, set to best\n",
    "            bestFeature = i\n",
    "    return bestFeature    "
   ]
  },
  {
   "cell_type": "code",
   "execution_count": 15,
   "metadata": {
    "collapsed": true
   },
   "outputs": [],
   "source": [
    "mayDat,labels = trees.createDataSet()"
   ]
  },
  {
   "cell_type": "code",
   "execution_count": 16,
   "metadata": {},
   "outputs": [
    {
     "data": {
      "text/plain": [
       "0"
      ]
     },
     "execution_count": 16,
     "metadata": {},
     "output_type": "execute_result"
    }
   ],
   "source": [
    "trees.chooseBestFeatureToSplit(myDat)"
   ]
  },
  {
   "cell_type": "markdown",
   "metadata": {},
   "source": [
    "0的含义是 数据集按照第一个特征属性进行划分。也就是说第一个特征是1的放在一组，第一个特征是0的放在一组。"
   ]
  },
  {
   "cell_type": "code",
   "execution_count": 17,
   "metadata": {},
   "outputs": [
    {
     "data": {
      "text/plain": [
       "[[1, 1, 'yes'], [1, 1, 'yes'], [1, 0, 'no'], [0, 1, 'no'], [0, 1, 'no']]"
      ]
     },
     "execution_count": 17,
     "metadata": {},
     "output_type": "execute_result"
    }
   ],
   "source": [
    "myDat"
   ]
  },
  {
   "cell_type": "markdown",
   "metadata": {},
   "source": [
    "### 3.1.3 递归构建决策树"
   ]
  },
  {
   "cell_type": "markdown",
   "metadata": {},
   "source": [
    "工作原理：得到原始数据集，然后基于最好的属性划分进行数据分类。第一次划分完之后，数据将被向下传递到树的分支的下一个节点。在这个节点上，我们可以再次划分数据。采用递归的方法。\n",
    "\n",
    "递归结束条件：程序遍历完所有划分数据的属性。或者每个分支下的所有势力都具有相同的分类。\n",
    "\n",
    "如果属性都使用完了：但标签还不唯一，就采用__多数表决__的方法决定该叶子节点的分类。"
   ]
  },
  {
   "cell_type": "code",
   "execution_count": null,
   "metadata": {
    "collapsed": true
   },
   "outputs": [],
   "source": [
    "def majorityCnt(classList):\n",
    "    classCount={}\n",
    "    for vote in classList:\n",
    "        if vote not in classCount.keys(): classCount[vote] = 0\n",
    "        classCount[vote] += 1\n",
    "    sortedClassCount = sorted(classCount.iteritems(), key=operator.itemgetter(1), reverse=True)\n",
    "    把classCount 字典类型 {key：value} 进行reverse=True升序排序 ,比较的关键字是第二个key=operator.itemgetter(1)\n",
    "    return sortedClassCount[0][0]"
   ]
  },
  {
   "cell_type": "markdown",
   "metadata": {},
   "source": [
    "#### 3-4 创建树的函数代码"
   ]
  },
  {
   "cell_type": "code",
   "execution_count": null,
   "metadata": {
    "collapsed": true
   },
   "outputs": [],
   "source": [
    "def createTree(dataSet,labels):   dataSet 数据集   labels 标签集\n",
    "    classList = [example[-1] for example in dataSet]  数据集的所有标签。\n",
    "    \n",
    "    if classList.count(classList[0]) == len(classList):  递归停止的第一个条件:所有的类标签完全相同，则直接返回该类的标签。\n",
    "        return classList[0]#stop splitting when all of the classes are equal\n",
    "        \n",
    "    if len(dataSet[0]) == 1: #stop splitting when there are no more features in dataSet 递归停止的第二个条件：用完了所有特征、任然不能将数据\n",
    "        return majorityCnt(classList)                                                集划分成仅包含唯一类别的分组。\n",
    "                                                                           挑出出现次数最多的类别作为返回                                                                            值。\n",
    "    bestFeat = chooseBestFeatureToSplit(dataSet)  最好的数据划分 返回值为索引。\n",
    "    bestFeatLabel = labels[bestFeat]  选出最好的数据划分的属性。\n",
    "    \n",
    "    myTree = {bestFeatLabel:{}} 构建树\n",
    "    \n",
    "    del(labels[bestFeat]) 删除变量 选择的最好的数据划分的属性 ==》labels 少了变量\n",
    "    \n",
    "    featValues = [example[bestFeat] for example in dataSet]          bestFeat是索引值。\n",
    "    uniqueVals = set(featValues)  获取划分后的集合\n",
    "    \n",
    "    这几句的作用是 splitDataSet(dataSet, bestFeat, value)分割\n",
    "    \n",
    "    for value in uniqueVals:\n",
    "        subLabels = labels[:]       #copy all of labels, so trees don't mess up existing labels\n",
    "        myTree[bestFeatLabel][value] = createTree(  splitDataSet(dataSet, bestFeat, value) ,subLabels)    迭代建树 一个出发点 \n",
    "                好多分支                                                            去 好多个节点。\n",
    "    return myTree "
   ]
  },
  {
   "cell_type": "code",
   "execution_count": 18,
   "metadata": {
    "collapsed": true
   },
   "outputs": [],
   "source": [
    "myDat,labels = trees.createDataSet()"
   ]
  },
  {
   "cell_type": "code",
   "execution_count": 19,
   "metadata": {},
   "outputs": [
    {
     "data": {
      "text/plain": [
       "[[1, 1, 'yes'], [1, 1, 'yes'], [1, 0, 'no'], [0, 1, 'no'], [0, 1, 'no']]"
      ]
     },
     "execution_count": 19,
     "metadata": {},
     "output_type": "execute_result"
    }
   ],
   "source": [
    "myDat"
   ]
  },
  {
   "cell_type": "code",
   "execution_count": 20,
   "metadata": {},
   "outputs": [
    {
     "data": {
      "text/plain": [
       "['no surfacing', 'flippers']"
      ]
     },
     "execution_count": 20,
     "metadata": {},
     "output_type": "execute_result"
    }
   ],
   "source": [
    "labels"
   ]
  },
  {
   "cell_type": "code",
   "execution_count": 21,
   "metadata": {
    "collapsed": true
   },
   "outputs": [],
   "source": [
    "myTree = trees.createTree(myDat,labels)"
   ]
  },
  {
   "cell_type": "code",
   "execution_count": 23,
   "metadata": {},
   "outputs": [
    {
     "data": {
      "text/plain": [
       "{'no surfacing': {0: 'no', 1: {'flippers': {0: 'no', 1: 'yes'}}}}"
      ]
     },
     "execution_count": 23,
     "metadata": {},
     "output_type": "execute_result"
    }
   ],
   "source": [
    "myTree"
   ]
  },
  {
   "cell_type": "markdown",
   "metadata": {},
   "source": [
    "## 3.2Matplotlib注解绘制树形图形"
   ]
  },
  {
   "cell_type": "code",
   "execution_count": 23,
   "metadata": {
    "collapsed": true
   },
   "outputs": [],
   "source": [
    "# encoding=utf8 \n",
    "import matplotlib\n",
    "import matplotlib.pyplot as plt\n",
    "\n",
    "from pylab import *  \n",
    "mpl.rcParams['font.sans-serif'] = ['SimHei'] \n",
    "\n",
    "#定义文本框和箭头格式\n",
    "decisionNode = dict(boxstyle=\"sawtooth\", fc=\"0.8\")  文本框\n",
    "leafNode = dict(boxstyle=\"round4\", fc=\"0.8\")  文本框\n",
    "arrow_args = dict(arrowstyle=\"<-\") 箭头\n",
    "\n",
    "#绘制带箭头的注解\n",
    "def plotNode(nodeTxt, centerPt, parentPt, nodeType):\n",
    "    createPlot.ax1.annotate(nodeTxt, xy=parentPt,  xycoords='axes fraction',\n",
    "             xytext=centerPt, textcoords='axes fraction',\n",
    "             va=\"center\", ha=\"center\", bbox=nodeType, arrowprops=arrow_args )\n",
    "\n",
    "#\n",
    "def createPlot():\n",
    "    fig = plt.figure(1, facecolor='white') 创建一个新图形并清空绘图区\n",
    "    fig.clf()\n",
    "    createPlot.ax1 = plt.subplot(111, frameon=False) #ticks for demo puropses \n",
    "    plotNode('决策节点', (0.5, 0.1), (0.1, 0.5), decisionNode)   在绘图区上绘制两个代表不同类型的树节点\n",
    "    plotNode('叶节点', (0.8, 0.1), (0.3, 0.8), leafNode)\n",
    "    plt.show()"
   ]
  },
  {
   "cell_type": "code",
   "execution_count": 24,
   "metadata": {},
   "outputs": [
    {
     "data": {
      "image/png": "[encoded data removed]",
      "text/plain": [
       "<matplotlib.figure.Figure at 0x897c1d0>"
      ]
     },
     "metadata": {},
     "output_type": "display_data"
    }
   ],
   "source": [
    "createPlot()"
   ]
  },
  {
   "cell_type": "markdown",
   "metadata": {
    "collapsed": true
   },
   "source": [
    "### 3.2.2 构造注解树\n",
    "知道有多少叶节点，确定x轴的长度   getNumLeafs(myTree):\n",
    "\n",
    "知道树有多少层，确定y轴的高度    getTreeDepth(myTree):"
   ]
  },
  {
   "cell_type": "code",
   "execution_count": null,
   "metadata": {
    "collapsed": true
   },
   "outputs": [],
   "source": [
    "def getNumLeafs(myTree):\n",
    "    numLeafs = 0\n",
    "    firstStr = myTree.keys()[0]\n",
    "    secondDict = myTree[firstStr]\n",
    "    for key in secondDict.keys():                                      #测试节点的数据类型是否为字典\n",
    "        if type(secondDict[key]).__name__=='dict':          #test to see if the nodes are dictonaires, if not they are leaf nodes\n",
    "            numLeafs += getNumLeafs(secondDict[key])\n",
    "        else:   numLeafs +=1\n",
    "    return numLeafs\n",
    "\n",
    "def getTreeDepth(myTree):\n",
    "    maxDepth = 0\n",
    "    firstStr = myTree.keys()[0]\n",
    "    secondDict = myTree[firstStr]\n",
    "    for key in secondDict.keys():\n",
    "        if type(secondDict[key]).__name__=='dict':#test to see if the nodes are dictonaires, if not they are leaf nodes\n",
    "            thisDepth = 1 + getTreeDepth(secondDict[key])\n",
    "        else:   thisDepth = 1\n",
    "        if thisDepth > maxDepth: maxDepth = thisDepth\n",
    "    return maxDepth"
   ]
  },
  {
   "cell_type": "code",
   "execution_count": null,
   "metadata": {
    "collapsed": true
   },
   "outputs": [],
   "source": []
  },
  {
   "cell_type": "code",
   "execution_count": null,
   "metadata": {
    "collapsed": true
   },
   "outputs": [],
   "source": []
  },
  {
   "cell_type": "markdown",
   "metadata": {},
   "source": [
    "## 3.3测试和储存分类器"
   ]
  },
  {
   "cell_type": "code",
   "execution_count": null,
   "metadata": {
    "collapsed": true
   },
   "outputs": [],
   "source": []
  },
  {
   "cell_type": "code",
   "execution_count": null,
   "metadata": {
    "collapsed": true
   },
   "outputs": [],
   "source": []
  },
  {
   "cell_type": "code",
   "execution_count": null,
   "metadata": {
    "collapsed": true
   },
   "outputs": [],
   "source": []
  },
  {
   "cell_type": "code",
   "execution_count": null,
   "metadata": {
    "collapsed": true
   },
   "outputs": [],
   "source": []
  },
  {
   "cell_type": "markdown",
   "metadata": {},
   "source": [
    "## 3.4示例：使用决策树预测隐形眼镜的类型"
   ]
  },
  {
   "cell_type": "code",
   "execution_count": null,
   "metadata": {
    "collapsed": true
   },
   "outputs": [],
   "source": []
  }
 ],
 "metadata": {
  "kernelspec": {
   "display_name": "Python 2",
   "language": "python",
   "name": "python2"
  },
  "language_info": {
   "codemirror_mode": {
    "name": "ipython",
    "version": 2
   },
   "file_extension": ".py",
   "mimetype": "text/x-python",
   "name": "python",
   "nbconvert_exporter": "python",
   "pygments_lexer": "ipython2",
   "version": "2.7.13"
  }
 },
 "nbformat": 4,
 "nbformat_minor": 2
}
