{
 "cells": [
  {
   "cell_type": "code",
   "execution_count": 3,
   "metadata": {},
   "outputs": [
    {
     "data": {
      "text/plain": [
       "4L"
      ]
     },
     "execution_count": 3,
     "metadata": {},
     "output_type": "execute_result"
    }
   ],
   "source": [
    "from numpy import * \n",
    "import operator \n",
    "def createDataSet():\n",
    "    group = array([[1.0,1.1],[1.0,1.0],[0,0],[0,0.1]])\n",
    "    labels = ['A','A','B','B']\n",
    "    return group, labels\n",
    "group,labels = createDataSet()\n",
    "group.shape[0]"
   ]
  },
  {
   "cell_type": "markdown",
   "metadata": {},
   "source": [
    "### （1） shape 形状\n",
    " \n",
    " dataSetSize = dataSet.shape[0]  \n",
    " \n",
    " dataSet.shape[0] 第一行（维）数据的形状（即长度、大小）"
   ]
  },
  {
   "cell_type": "markdown",
   "metadata": {},
   "source": [
    "### （2）tile:扩展数字\n",
    "\n",
    "diffMat = tile(inX, (dataSetSize,1)) - dataSet __欧氏公式1 相减__\n",
    "\n",
    "tile(inX, (A,B))  将在列的方向重复B次 行的方向重复A次"
   ]
  },
  {
   "cell_type": "code",
   "execution_count": 4,
   "metadata": {},
   "outputs": [
    {
     "data": {
      "text/plain": [
       "array([[0, 0],\n",
       "       [0, 0],\n",
       "       [0, 0],\n",
       "       [0, 0]])"
      ]
     },
     "execution_count": 4,
     "metadata": {},
     "output_type": "execute_result"
    }
   ],
   "source": [
    "tile([0,0],(4,1))"
   ]
  },
  {
   "cell_type": "code",
   "execution_count": 5,
   "metadata": {},
   "outputs": [
    {
     "data": {
      "text/plain": [
       "array([[-1. , -1.1],\n",
       "       [-1. , -1. ],\n",
       "       [ 0. ,  0. ],\n",
       "       [ 0. , -0.1]])"
      ]
     },
     "execution_count": 5,
     "metadata": {},
     "output_type": "execute_result"
    }
   ],
   "source": [
    "tile([0,0],(4,1)) - group #做差"
   ]
  },
  {
   "cell_type": "markdown",
   "metadata": {},
   "source": [
    "（3）sqDiffMat = diffMat**2 __欧氏公式2 平方__\n",
    "\n",
    "平方  给矩阵平方是给矩阵的每个项平方\n",
    "\n",
    " （4）sqDistances = sqDiffMat.sum(axis=1) __欧氏公式3 加和__\n",
    " \n",
    ".sum(axis=0) 表是方向相加\n",
    "\n",
    ".sum(axis=1) 表是行方向相加\n",
    "\n",
    "（5）  distances = sqDistances**0.5 __欧氏公式4 开方（开根号）__\n",
    "\n",
    "(6)sortedDistIndicies = distances.argsort()  \n",
    "\n",
    "返回数组值从小到大的__索引值__\n",
    "\n",
    "    sortedDistIndicies = distances.argsort()     \n",
    "    classCount={}   \n",
    "    #第二步：选择距离最小的k个点\n",
    "    for i in range(k):\n",
    "        voteIlabel = labels[sortedDistIndicies[i]]\n",
    "   \n"
   ]
  },
  {
   "cell_type": "markdown",
   "metadata": {},
   "source": [
    "### （3）.argsort()"
   ]
  },
  {
   "cell_type": "code",
   "execution_count": 9,
   "metadata": {},
   "outputs": [
    {
     "name": "stdout",
     "output_type": "stream",
     "text": [
      "[0 2 3 1]\n"
     ]
    }
   ],
   "source": [
    "import numpy as np\n",
    "x = np.array([8, 112, 20,50])\n",
    "indexl = x.argsort()\n",
    "print indexl"
   ]
  },
  {
   "cell_type": "code",
   "execution_count": 10,
   "metadata": {},
   "outputs": [
    {
     "name": "stdout",
     "output_type": "stream",
     "text": [
      "0\n",
      "2\n",
      "3\n",
      "1\n"
     ]
    }
   ],
   "source": [
    "for i in range(4):\n",
    "    print indexl[i]"
   ]
  },
  {
   "cell_type": "code",
   "execution_count": 12,
   "metadata": {},
   "outputs": [
    {
     "name": "stdout",
     "output_type": "stream",
     "text": [
      "[0]\n",
      "[2]\n",
      "[3]\n",
      "[1]\n"
     ]
    }
   ],
   "source": [
    "for i in range(4): \n",
    "    print [indexl[i]]  #索引排序"
   ]
  },
  {
   "cell_type": "code",
   "execution_count": 11,
   "metadata": {},
   "outputs": [
    {
     "name": "stdout",
     "output_type": "stream",
     "text": [
      "8\n",
      "20\n",
      "50\n",
      "112\n"
     ]
    }
   ],
   "source": [
    "for i in range(4):\n",
    "    print x[indexl[i]] #通过索引值排序后的数组"
   ]
  },
  {
   "cell_type": "markdown",
   "metadata": {},
   "source": [
    "### (4).get()\n",
    "字典的get方法\n",
    "\n",
    "（7）dict.get(key, default=None)\n",
    "\n",
    "classCount.get(voteIlabel,0) 是 classCount[voteIlabel]的值value"
   ]
  },
  {
   "cell_type": "markdown",
   "metadata": {},
   "source": [
    "### （5）sorted()\n",
    "（8）sortedClassCount = sorted(classCount.iteritems(), key=operator.itemgetter(1), reverse=True)\n",
    "\n",
    "\n",
    "sorted(iterable[,cmp,[,key[,reverse=True]]])\n",
    "\n",
    "iterable指定要排序的list或者iterable，不用多说\n",
    "\n",
    "cmp为函数，指定排序时进行比较的函数\n",
    "\n",
    "key为函数，指定取待排序元素的哪一项进行排序\n",
    "\n",
    "reverse=True 升序排列；reverse=False 降序排列\n",
    "\n",
    "### （6）.itemgetter(1)\n",
    "\n",
    "函数 operator.itemgetter(1)  获取对象的第1个域的值  （从0开始编号）"
   ]
  },
  {
   "cell_type": "code",
   "execution_count": 15,
   "metadata": {
    "collapsed": true
   },
   "outputs": [],
   "source": [
    "a = [1,2,3] \n",
    "b=operator.itemgetter(1)"
   ]
  },
  {
   "cell_type": "code",
   "execution_count": 17,
   "metadata": {},
   "outputs": [
    {
     "data": {
      "text/plain": [
       "2"
      ]
     },
     "execution_count": 17,
     "metadata": {},
     "output_type": "execute_result"
    }
   ],
   "source": [
    "b(a)"
   ]
  },
  {
   "cell_type": "markdown",
   "metadata": {},
   "source": [
    "### （7）.iteritems() 迭代器函数 往出取值"
   ]
  },
  {
   "cell_type": "markdown",
   "metadata": {},
   "source": [
    "查看博客 http://blog.csdn.net/dongtingzhizi/article/details/12068205"
   ]
  },
  {
   "cell_type": "markdown",
   "metadata": {
    "collapsed": true
   },
   "source": [
    "## （8）.scatter()\n",
    "\n",
    "ax.scatter(datingDataMat[:,0],datingDataMat[:,1],\n",
    "         15.0*array(datingLabels),15.0*array(datingLabels))\n",
    "         \n",
    "利用变量datingLabels存储的类标签属性，在散点图上绘制色彩不等，尺寸不同的点 \n",
    "\n",
    ".scatter(x,y,size,color)\n",
    "\n",
    "        x = datingDataMat[:,0]\n",
    "        y = datingDataMat[:,1]\n",
    "        size = 15.0*array(datingLabels)\n",
    "        color = 15.0*array(datingLabels)"
   ]
  },
  {
   "cell_type": "markdown",
   "metadata": {},
   "source": [
    "# （9）.split()\n",
    "split()就是将一个__字符串__分裂成__多个字符串__组成的__列表__"
   ]
  },
  {
   "cell_type": "code",
   "execution_count": 11,
   "metadata": {},
   "outputs": [
    {
     "name": "stdout",
     "output_type": "stream",
     "text": [
      "['012_121', 'txt'] \n",
      "\n",
      "['012', '121'] \n",
      "\n",
      "12\n"
     ]
    }
   ],
   "source": [
    "fileNameStr = \"012_121.txt\"\n",
    "fileStr = fileNameStr.split('.')   \n",
    "classNumStr = fileStr[0].split('_')\n",
    "classNumStr1 = int(classNumStr[0])\n",
    "print fileStr, '\\n'*2 ,classNumStr, '\\n'*2 ,classNumStr1"
   ]
  },
  {
   "cell_type": "code",
   "execution_count": 6,
   "metadata": {
    "collapsed": true
   },
   "outputs": [],
   "source": [
    " u = \"www.doiido.com.cn\""
   ]
  },
  {
   "cell_type": "code",
   "execution_count": 7,
   "metadata": {},
   "outputs": [
    {
     "name": "stdout",
     "output_type": "stream",
     "text": [
      "['www', 'doiido', 'com', 'cn']\n"
     ]
    }
   ],
   "source": [
    "print u.split('.')"
   ]
  },
  {
   "cell_type": "markdown",
   "metadata": {
    "collapsed": true
   },
   "source": [
    "# (10) extend() 和 append()"
   ]
  },
  {
   "cell_type": "markdown",
   "metadata": {},
   "source": [
    "也就是说a.append(b)是往后加一个list  但是 a.extend(b) 平行排列 是将a和b的所有元素组合成一个列表"
   ]
  },
  {
   "cell_type": "code",
   "execution_count": 1,
   "metadata": {},
   "outputs": [
    {
     "data": {
      "text/plain": [
       "[1, 2, 3, [4, 5, 6]]"
      ]
     },
     "execution_count": 1,
     "metadata": {},
     "output_type": "execute_result"
    }
   ],
   "source": [
    "a=[1,2,3]\n",
    "b=[4,5,6]\n",
    "a.append(b)\n",
    "a"
   ]
  },
  {
   "cell_type": "code",
   "execution_count": 2,
   "metadata": {},
   "outputs": [
    {
     "data": {
      "text/plain": [
       "[1, 2, 3, 4, 5, 6]"
      ]
     },
     "execution_count": 2,
     "metadata": {},
     "output_type": "execute_result"
    }
   ],
   "source": [
    "a=[1,2,3]\n",
    "b=[4,5,6]\n",
    "a.extend(b)\n",
    "a"
   ]
  },
  {
   "cell_type": "markdown",
   "metadata": {},
   "source": [
    "# （11） set()"
   ]
  },
  {
   "cell_type": "code",
   "execution_count": 3,
   "metadata": {},
   "outputs": [
    {
     "data": {
      "text/plain": [
       "{1, 2, 3, 4}"
      ]
     },
     "execution_count": 3,
     "metadata": {},
     "output_type": "execute_result"
    }
   ],
   "source": [
    "a = [1,2,3,4,2,3,1,2,3,1,4]\n",
    "set(a)"
   ]
  },
  {
   "cell_type": "markdown",
   "metadata": {
    "collapsed": true
   },
   "source": [
    "# （12） 绘图过程中出现中文错误"
   ]
  },
  {
   "cell_type": "code",
   "execution_count": null,
   "metadata": {
    "collapsed": true
   },
   "outputs": [],
   "source": [
    "产生中文乱码的原因就是字体的默认设置中并没有中文字体，所以我们只要手动添加中文字体的名称就可以了\n",
    "\n",
    "from pylab import *  \n",
    "mpl.rcParams['font.sans-serif'] = ['SimHei'] "
   ]
  },
  {
   "cell_type": "code",
   "execution_count": null,
   "metadata": {
    "collapsed": true
   },
   "outputs": [],
   "source": []
  },
  {
   "cell_type": "code",
   "execution_count": null,
   "metadata": {
    "collapsed": true
   },
   "outputs": [],
   "source": []
  }
 ],
 "metadata": {
  "kernelspec": {
   "display_name": "Python 2",
   "language": "python",
   "name": "python2"
  },
  "language_info": {
   "codemirror_mode": {
    "name": "ipython",
    "version": 2
   },
   "file_extension": ".py",
   "mimetype": "text/x-python",
   "name": "python",
   "nbconvert_exporter": "python",
   "pygments_lexer": "ipython2",
   "version": "2.7.13"
  }
 },
 "nbformat": 4,
 "nbformat_minor": 2
}
