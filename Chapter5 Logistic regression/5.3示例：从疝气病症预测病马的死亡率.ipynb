{
 "cells": [
  {
   "cell_type": "markdown",
   "metadata": {},
   "source": [
    "# 1.data数据描述\n",
    "368个样本，28个特征，txt文本数据"
   ]
  },
  {
   "cell_type": "markdown",
   "metadata": {},
   "source": [
    "# *****缺失值处理*****\n",
    "\n",
    "处理方法：\n",
    "* 使用__特征的均值__来进行填补缺失值\n",
    "* 使用__特殊值__来填补缺失值，如-1，0\n",
    "* __忽略__缺失样本\n",
    "* 使用__样本均值__来填补缺失值\n",
    "* 使用另外的机器学习算法来__预测__缺失值"
   ]
  },
  {
   "cell_type": "code",
   "execution_count": null,
   "metadata": {
    "collapsed": true
   },
   "outputs": [],
   "source": [
    "2.000000\t1.000000\t38.500000\t66.000000\t28.000000\t3.000000\t3.000000\t0.000000\t2.000000\t5.000000\t4.000000\t4.000000\t0.000000\t0.000000\t0.000000\t3.000000\t5.000000\t45.000000\t8.400000\t0.000000\t0.000000\t0.000000\n",
    "1.000000\t1.000000\t39.200000\t88.000000\t20.000000\t0.000000\t0.000000\t4.000000\t1.000000\t3.000000\t4.000000\t2.000000\t0.000000\t0.000000\t0.000000\t4.000000\t2.000000\t50.000000\t85.000000\t2.000000\t2.000000\t0.000000\n",
    "2.000000\t1.000000\t38.300000\t40.000000\t24.000000\t1.000000\t1.000000\t3.000000\t1.000000\t3.000000\t3.000000\t1.000000\t0.000000\t0.000000\t0.000000\t1.000000\t1.000000\t33.000000\t6.700000\t0.000000\t0.000000\t1.000000\n",
    "1.000000\t9.000000\t39.100000\t164.000000\t84.000000\t4.000000\t1.000000\t6.000000\t2.000000\t2.000000\t4.000000\t4.000000\t1.000000\t2.000000\t5.000000\t3.000000\t0.000000\t48.000000\t7.200000\t3.000000\t5.300000\t0.000000\n",
    "2.000000\t1.000000\t37.300000\t104.000000\t35.000000\t0.000000\t0.000000\t6.000000\t2.000000\t0.000000\t0.000000\t0.000000\t0.000000\t0.000000\t0.000000\t0.000000\t0.000000\t74.000000\t7.400000\t0.000000\t0.000000\t0.000000\n",
    "2.000000\t1.000000\t0.000000\t0.000000\t0.000000\t2.000000\t1.000000\t3.000000\t1.000000\t2.000000\t3.000000\t2.000000\t2.000000\t1.000000\t0.000000\t3.000000\t3.000000\t0.000000\t0.000000\t0.000000\t0.000000\t1.000000\n",
    "1.000000\t1.000000\t37.900000\t48.000000\t16.000000\t1.000000\t1.000000\t1.000000\t1.000000\t3.000000\t3.000000\t3.000000\t1.000000\t1.000000\t0.000000\t3.000000\t5.000000\t37.000000\t7.000000\t0.000000\t0.000000\t1.000000\n",
    "1.000000\t1.000000\t0.000000\t60.000000\t0.000000\t3.000000\t0.000000\t0.000000\t1.000000\t0.000000\t4.000000\t2.000000\t2.000000\t1.000000\t0.000000\t3.000000\t4.000000\t44.000000\t8.300000\t0.000000\t0.000000\t0.000000\n",
    "2.000000\t1.000000\t0.000000\t80.000000\t36.000000\t3.000000\t4.000000\t3.000000\t1.000000\t4.000000\t4.000000\t4.000000\t2.000000\t1.000000\t0.000000\t3.000000\t5.000000\t38.000000\t6.200000\t0.000000\t0.000000\t0.000000\n",
    "2.000000\t9.000000\t38.300000\t90.000000\t0.000000\t1.000000\t0.000000\t1.000000\t1.000000\t5.000000\t3.000000\t1.000000\t2.000000\t1.000000\t0.000000\t3.000000\t0.000000\t40.000000\t6.200000\t1.000000\t2.200000\t1.000000"
   ]
  },
  {
   "cell_type": "markdown",
   "metadata": {},
   "source": [
    "# 3.代码解读："
   ]
  },
  {
   "cell_type": "code",
   "execution_count": null,
   "metadata": {
    "collapsed": true
   },
   "outputs": [],
   "source": [
    "def classifyVector(inX, weights): \n",
    "    回归系数和特征向量（这与传统意义上的特征向量不是一个奥）\n",
    "    prob = sigmoid(sum(inX*weights))\n",
    "    if prob > 0.5: return 1.0\n",
    "    else: return 0.0\n",
    "\n",
    "def colicTest():\n",
    "    打开测试集  和  训练集 ，并且 对数据进行格式处理\n",
    "    frTrain = open('horseColicTraining.txt'); 打开训练集\n",
    "    frTest = open('horseColicTest.txt') 打开测试集\n",
    "    \n",
    "    trainingSet = []; \n",
    "    trainingLabels = []\n",
    "    \n",
    "    处理训练集数据：训练回归系数\n",
    "    for line in frTrain.readlines():\n",
    "        currLine = line.strip().split('\\t') 按空格截取\n",
    "        lineArr =[]\n",
    "        \n",
    "        for i in range(21): 将21个特征值拼接起来，\n",
    "            lineArr.append(float(currLine[i])) 拼接成一个数组\n",
    "            \n",
    "        trainingSet.append(lineArr) 将数组凭借成大数组（多维数组）\n",
    "        trainingLabels.append(float(currLine[21]))  第22个属性是标签\n",
    "        pass\n",
    "    \n",
    "    训练回归系数\n",
    "    trainWeights = stocGradAscent1(array(trainingSet), \n",
    "                                   trainingLabels, 1000)\n",
    "    \n",
    "    errorCount = 0;  错误次数\n",
    "    numTestVec = 0.0  记录样本个数\n",
    "    \n",
    "    处理测试集数据：测试训练的回归系数\n",
    "    for line in frTest.readlines():\n",
    "        numTestVec += 1.0  记录样本的个数\n",
    "        \n",
    "        currLine = line.strip().split('\\t')\n",
    "        lineArr =[]\n",
    "        for i in range(21):\n",
    "            lineArr.append(float(currLine[i]))\n",
    "        if int(classifyVector(array(lineArr), \n",
    "                              trainWeights))!= int(currLine[21]):\n",
    "            \n",
    "            classifyVector()这个函数是用来是被检查样例的\n",
    "            \n",
    "            预测错误就记录下来\n",
    "            errorCount += 1\n",
    "        pass\n",
    "    \n",
    "    errorRate = (float(errorCount)/numTestVec)\n",
    "    print \"the error rate of this test is: %f\" % errorRate\n",
    "    \n",
    "    return errorRate 错误率\n",
    "\n",
    "\n",
    "多次测试，平均的错误率\n",
    "10次测试，平均的错误率。\n",
    "def multiTest():\n",
    "    numTests = 10; errorSum=0.0\n",
    "    for k in range(numTests): 一共运行10次\n",
    "        errorSum += colicTest()\n",
    "    print \"after %d iterations the average error rate is: %f\" \n",
    "    % (numTests, errorSum/float(numTests))\n",
    "        "
   ]
  },
  {
   "cell_type": "code",
   "execution_count": 1,
   "metadata": {
    "collapsed": true
   },
   "outputs": [],
   "source": [
    "import logRegres"
   ]
  },
  {
   "cell_type": "code",
   "execution_count": 2,
   "metadata": {},
   "outputs": [
    {
     "name": "stderr",
     "output_type": "stream",
     "text": [
      "logRegres.py:18: RuntimeWarning: overflow encountered in exp\n",
      "  return 1.0/(1+exp(-inX))\n"
     ]
    },
    {
     "name": "stdout",
     "output_type": "stream",
     "text": [
      "the error rate of this test is: 0.388060\n",
      "the error rate of this test is: 0.313433\n",
      "the error rate of this test is: 0.417910\n",
      "the error rate of this test is: 0.268657\n",
      "the error rate of this test is: 0.358209\n",
      "the error rate of this test is: 0.328358\n",
      "the error rate of this test is: 0.253731\n",
      "the error rate of this test is: 0.328358\n",
      "the error rate of this test is: 0.298507\n",
      "the error rate of this test is: 0.298507\n",
      "after 10 iterations the average error rate is: 0.325373\n"
     ]
    }
   ],
   "source": [
    "logRegres.multiTest()"
   ]
  },
  {
   "cell_type": "code",
   "execution_count": null,
   "metadata": {
    "collapsed": true
   },
   "outputs": [],
   "source": []
  }
 ],
 "metadata": {
  "kernelspec": {
   "display_name": "Python 2",
   "language": "python",
   "name": "python2"
  },
  "language_info": {
   "codemirror_mode": {
    "name": "ipython",
    "version": 2
   },
   "file_extension": ".py",
   "mimetype": "text/x-python",
   "name": "python",
   "nbconvert_exporter": "python",
   "pygments_lexer": "ipython2",
   "version": "2.7.13"
  }
 },
 "nbformat": 4,
 "nbformat_minor": 2
}
