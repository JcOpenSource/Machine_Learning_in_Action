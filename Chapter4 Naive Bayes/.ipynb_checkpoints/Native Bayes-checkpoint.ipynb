{
 "cells": [
  {
   "cell_type": "markdown",
   "metadata": {},
   "source": [
    "# <center>基于概率论的分类方法：朴素贝叶斯</center>"
   ]
  },
  {
   "cell_type": "markdown",
   "metadata": {},
   "source": [
    "要求分类器给出一个最优的类别猜测结果，同时给出这个猜测的概率估值。  "
   ]
  },
  {
   "cell_type": "markdown",
   "metadata": {},
   "source": [
    "## 4.1 基于贝叶斯决策理论的分类方法"
   ]
  },
  {
   "cell_type": "markdown",
   "metadata": {},
   "source": [
    "### 朴素贝叶斯\n",
    "* 优点：在数据较少的情况下任然有效，可以处理多类别问题\n",
    "* 缺点：对于输入数据的准备方式计较敏感\n",
    "* 适用数据类型：标称型数据\n",
    "### 贝叶斯决策理论\n",
    "朴素贝叶斯是贝叶斯决策理论的一部分。\n",
    "![%E6%88%AA%E5%9B%BE1504767131.png](attachment:%E6%88%AA%E5%9B%BE1504767131.png)\n",
    "p1(x, y)表示属于类别1的概率，p2(x, y)表示属于类别2的概率。\n",
    " * If p1(x, y) > p2(x, y), then the class is 1.\n",
    " * If p2(x, y) > p1(x, y), then the class is 2.\n",
    "贝叶斯决策理论的核心思想：选择具有最高概率的决策。"
   ]
  },
  {
   "cell_type": "markdown",
   "metadata": {},
   "source": [
    "## 4.2条件概率\n",
    "* 条件概率 conditional probability\n",
    "* 条件概率计算公式\n",
    "\n",
    "计算从B桶中获取灰色石头的概率   直接等于1/3\n",
    "![image.png](attachment:image.png)\n",
    "$$  p(gray|bucketB) = \\frac{p(gray \\quad and \\quad bucketB)}{p(bucketB)} $$ \n",
    "\n",
    "$p(gray \\quad and \\quad bucketB) = 1/7$ \n",
    "\n",
    "$p(bucketB) = 3/7$ \n",
    "\n",
    "$p(gray|bucketB) = \\frac{p(gray \\quad and \\quad bucketB)}{p(bucketB)} = (1/7)/(3/7)=1/3$\n",
    "* __贝叶斯准则__\n",
    "$$  p(c|x) = \\frac{p(x|c)p(c)}{p(x)} $$ \n",
    "$$  p(cx) = p(x) \\cdot  p(c|x)   $$ \n",
    "$$  p(cx) = p(c) \\times  p(x|c)   $$ "
   ]
  },
  {
   "cell_type": "markdown",
   "metadata": {},
   "source": [
    "## 4.3使用条件概率来分类"
   ]
  },
  {
   "cell_type": "markdown",
   "metadata": {},
   "source": [
    "### 贝叶斯分类准则\n",
    "$$  p(c_i|x,y) = \\frac{p(x,y|c_i)p(c_i)}{p(x,y)} $$ \n",
    "![image.png](attachment:image.png)"
   ]
  },
  {
   "cell_type": "markdown",
   "metadata": {},
   "source": [
    "## 4.4使用朴素贝叶斯进行文档分类"
   ]
  },
  {
   "cell_type": "markdown",
   "metadata": {},
   "source": [
    "朴素贝叶斯常用与文档分类。\n",
    "#### 朴素贝叶斯的分类器（两种实现方式）\n",
    "* 基于伯努利模型实验（本节）\n",
    "* 基于多项式模型实验（4.5.4节）"
   ]
  },
  {
   "cell_type": "markdown",
   "metadata": {},
   "source": [
    "## 4.5 使用Python进行文本分类"
   ]
  },
  {
   "cell_type": "markdown",
   "metadata": {},
   "source": [
    "### 4.5.1 准备数据：从文本中构建向量"
   ]
  },
  {
   "cell_type": "markdown",
   "metadata": {},
   "source": [
    "文本转化为数字向量的过程\n",
    "\n",
    "将文本看成单词向量或者词条向量，即将句子转化为向量"
   ]
  },
  {
   "cell_type": "code",
   "execution_count": null,
   "metadata": {
    "collapsed": true
   },
   "outputs": [],
   "source": [
    "\n",
    "def loadDataSet():\n",
    "    postingList=[['my', 'dog', 'has', 'flea', 'problems', 'help', 'please'],   创建实验样本   flea 跳蚤\n",
    "                 ['maybe', 'not', 'take', 'him', 'to', 'dog', 'park', 'stupid'],\n",
    "                 ['my', 'dalmation', 'is', 'so', 'cute', 'I', 'love', 'him'],\n",
    "                 ['stop', 'posting', 'stupid', 'worthless', 'garbage'],\n",
    "                 ['mr', 'licks', 'ate', 'my', 'steak', 'how', 'to', 'stop', 'him'],\n",
    "                 ['quit', 'buying', 'worthless', 'dog', 'food', 'stupid']]\n",
    "    classVec = [0,1,0,1,0,1]     类别标签的集合   侮辱性的1   非侮辱性的0   #1 is abusive, 0 not  \n",
    "    return postingList,classVec\n",
    "                 \n",
    "def createVocabList(dataSet):   得到包含在所有文档中出现的部重复词的列表 \n",
    "    vocabSet = set([])         创建一个空集合        #create empty set  \n",
    "    for document in dataSet:\n",
    "        vocabSet = vocabSet | set(document)  创建两个集合的并集   #union of the two sets\n",
    "        将每篇文章的新词加到该集合中。\n",
    "         | 两个集合set求并\n",
    "    return list(vocabSet)\n",
    "\n",
    "def setOfWords2Vec(vocabList, inputSet):\n",
    "    输入： vocabLis 词汇表    inputSet 某个文档\n",
    "    输出：文档向量\n",
    "    returnVec = [0]*len(vocabList)        创建一个其中所含元素都为0的向量   =   0向量\n",
    "    for word in inputSet:\n",
    "        if word in vocabList:   如果词汇表出现了这个单词\n",
    "            returnVec[vocabList.index(word)] = 1   将文档的输出向量设置为1\n",
    "        else: print \"the word: %s is not in my Vocabulary!\" % word\n",
    "    return returnVec  "
   ]
  },
  {
   "cell_type": "code",
   "execution_count": 6,
   "metadata": {
    "collapsed": true
   },
   "outputs": [],
   "source": [
    "import bayes"
   ]
  },
  {
   "cell_type": "code",
   "execution_count": 7,
   "metadata": {
    "collapsed": true
   },
   "outputs": [],
   "source": [
    "listOPosts,listClasses = bayes.loadDataSet()"
   ]
  },
  {
   "cell_type": "code",
   "execution_count": 8,
   "metadata": {
    "collapsed": true
   },
   "outputs": [],
   "source": [
    "myVocabList = bayes.createVocabList(listOPosts) #得到词汇表"
   ]
  },
  {
   "cell_type": "code",
   "execution_count": 24,
   "metadata": {},
   "outputs": [
    {
     "name": "stdout",
     "output_type": "stream",
     "text": [
      "['cute', 'love', 'help', 'garbage', 'quit', 'I', 'problems', 'is', 'park', 'stop', 'flea', 'dalmation', 'licks', 'food', 'not', 'him', 'buying', 'posting', 'has', 'worthless', 'ate', 'to', 'maybe', 'please', 'dog', 'how', 'stupid', 'so', 'take', 'mr', 'steak', 'my']\n"
     ]
    }
   ],
   "source": [
    "print myVocabList"
   ]
  },
  {
   "cell_type": "code",
   "execution_count": 25,
   "metadata": {},
   "outputs": [
    {
     "name": "stdout",
     "output_type": "stream",
     "text": [
      "[0, 0, 1, 0, 0, 0, 1, 0, 0, 0, 1, 0, 0, 0, 0, 0, 0, 0, 1, 0, 0, 0, 0, 1, 1, 0, 0, 0, 0, 0, 0, 1]\n"
     ]
    }
   ],
   "source": [
    "print bayes.setOfWords2Vec(myVocabList,listOPosts[0]) #得到listOPosts[0]的文本向量"
   ]
  },
  {
   "cell_type": "code",
   "execution_count": 26,
   "metadata": {},
   "outputs": [
    {
     "name": "stdout",
     "output_type": "stream",
     "text": [
      "[0, 0, 0, 1, 0, 0, 0, 0, 0, 1, 0, 0, 0, 0, 0, 0, 0, 1, 0, 1, 0, 0, 0, 0, 0, 0, 1, 0, 0, 0, 0, 0]\n"
     ]
    }
   ],
   "source": [
    "print bayes.setOfWords2Vec(myVocabList,listOPosts[3])#得到listOPosts[3]的文本向量"
   ]
  },
  {
   "cell_type": "markdown",
   "metadata": {},
   "source": [
    "### 4.5.2 训练算法：从词向量计算概率"
   ]
  },
  {
   "cell_type": "markdown",
   "metadata": {},
   "source": [
    "如何用数字计算概率\n",
    "\n",
    "$p(c_i)$  通过类别i中文档数处理总的文档数来计算\n",
    "\n",
    "$p( \\textbf{w} |c_i)$           __由朴素贝叶斯得来__\n",
    "* 将$\\textbf{w}$展开为一个个独立的特征 $p(w_0,w_1,w_2...w_N|c_i)$\n",
    "* 每个词相互独立，条件独立性  $\\implies$  $p(w_0|c_i)p(w_1|c_i)p(w_2|c_i)...p(w_N|c_i)$"
   ]
  },
  {
   "cell_type": "markdown",
   "metadata": {},
   "source": [
    "$$  p(c_i| \\textbf{w} ) = \\frac{p( \\textbf{w} |c_i)p(c_i)}{p(\\textbf{w})} $$ \n",
    "\n",
    "$\\textbf{w}$ 表示向量（文本向量）"
   ]
  },
  {
   "cell_type": "markdown",
   "metadata": {},
   "source": [
    "### 伪代码\n",
    "``` \n",
    "计算每个文档类别中的文档数目\n",
    "对每篇训练文档：\n",
    " 对每个类别：\n",
    "      如果词条出现在文档中 $\\rightarrow $ 增加该词条的计数值\n",
    "      增加所有词条的计数值\n",
    " 对每个类别：\n",
    "    对每个词条：\n",
    "       将该词条的数目除以总词条数目得到概率\n",
    " 返回每个类别的条件概率\n",
    " ``` "
   ]
  },
  {
   "cell_type": "code",
   "execution_count": null,
   "metadata": {
    "collapsed": true
   },
   "outputs": [],
   "source": [
    "def trainNB0(trainMatrix,trainCategory):\n",
    "    numTrainDocs = len(trainMatrix)  测试数据对象的个数\n",
    "    numWords = len(trainMatrix[0])   所有单词的个数\n",
    "    pAbusive = sum(trainCategory)/float(numTrainDocs)       初始化概率  \n",
    "                                                                                                                        对于两个概率（侮辱性 和 非侮辱性）的概率，pBbusiveB= 1 - pAbusive\n",
    "    p0Num = ones(numWords); p1Num = ones(numWords)      #change to ones() \n",
    "    p0Denom = 2.0; p1Denom = 2.0                        #change to 2.0\n",
    "    \n",
    "    for i in range(numTrainDocs):\n",
    "        if trainCategory[i] == 1:\n",
    "            p1Num += trainMatrix[i]                   向量相加\n",
    "            p1Denom += sum(trainMatrix[i])\n",
    "        else:\n",
    "            p0Num += trainMatrix[i]\n",
    "            p0Denom += sum(trainMatrix[i])                      对每个元素做除法\n",
    "            \n",
    "            \n",
    "    p1Vect = log(p1Num/p1Denom)          #change to log()\n",
    "    p0Vect = log(p0Num/p0Denom)          #change to log()\n",
    "    return p0Vect,p1Vect,pAbusive"
   ]
  },
  {
   "cell_type": "code",
   "execution_count": 12,
   "metadata": {
    "collapsed": true
   },
   "outputs": [],
   "source": [
    "from numpy import *"
   ]
  },
  {
   "cell_type": "code",
   "execution_count": 13,
   "metadata": {
    "collapsed": true
   },
   "outputs": [],
   "source": [
    "listOPosts,listClasses = bayes.loadDataSet()   #加载数据"
   ]
  },
  {
   "cell_type": "code",
   "execution_count": 28,
   "metadata": {},
   "outputs": [
    {
     "name": "stdout",
     "output_type": "stream",
     "text": [
      "[['my', 'dog', 'has', 'flea', 'problems', 'help', 'please'], ['maybe', 'not', 'take', 'him', 'to', 'dog', 'park', 'stupid'], ['my', 'dalmation', 'is', 'so', 'cute', 'I', 'love', 'him'], ['stop', 'posting', 'stupid', 'worthless', 'garbage'], ['mr', 'licks', 'ate', 'my', 'steak', 'how', 'to', 'stop', 'him'], ['quit', 'buying', 'worthless', 'dog', 'food', 'stupid']] \n",
      "[0, 1, 0, 1, 0, 1]\n"
     ]
    }
   ],
   "source": [
    "print listOPosts,'\\n',listClasses"
   ]
  },
  {
   "cell_type": "code",
   "execution_count": 14,
   "metadata": {
    "collapsed": true
   },
   "outputs": [],
   "source": [
    "myVocabList = bayes.createVocabList(listOPosts) #构建一个包含所有词的列表myVocabList"
   ]
  },
  {
   "cell_type": "code",
   "execution_count": 30,
   "metadata": {},
   "outputs": [
    {
     "name": "stdout",
     "output_type": "stream",
     "text": [
      "['cute', 'love', 'help', 'garbage', 'quit', 'I', 'problems', 'is', 'park', 'stop', 'flea', 'dalmation', 'licks', 'food', 'not', 'him', 'buying', 'posting', 'has', 'worthless', 'ate', 'to', 'maybe', 'please', 'dog', 'how', 'stupid', 'so', 'take', 'mr', 'steak', 'my']\n"
     ]
    }
   ],
   "source": [
    "print myVocabList #构建词汇表"
   ]
  },
  {
   "cell_type": "code",
   "execution_count": 16,
   "metadata": {
    "collapsed": true
   },
   "outputs": [],
   "source": [
    "trainmMat = []"
   ]
  },
  {
   "cell_type": "code",
   "execution_count": 17,
   "metadata": {
    "collapsed": true
   },
   "outputs": [],
   "source": [
    "'''\n",
    "该for循环使用词向量来填充trainMat列表，\n",
    "\n",
    "postinDoc 是每一个  listOPosts原始数据\n",
    "'''\n",
    "for postinDoc in listOPosts:\n",
    "    trainmMat.append(bayes.setOfWords2Vec(myVocabList,postinDoc))"
   ]
  },
  {
   "cell_type": "code",
   "execution_count": 31,
   "metadata": {},
   "outputs": [
    {
     "name": "stdout",
     "output_type": "stream",
     "text": [
      "[[0, 0, 1, 0, 0, 0, 1, 0, 0, 0, 1, 0, 0, 0, 0, 0, 0, 0, 1, 0, 0, 0, 0, 1, 1, 0, 0, 0, 0, 0, 0, 1], [0, 0, 0, 0, 0, 0, 0, 0, 1, 0, 0, 0, 0, 0, 1, 1, 0, 0, 0, 0, 0, 1, 1, 0, 1, 0, 1, 0, 1, 0, 0, 0], [1, 1, 0, 0, 0, 1, 0, 1, 0, 0, 0, 1, 0, 0, 0, 1, 0, 0, 0, 0, 0, 0, 0, 0, 0, 0, 0, 1, 0, 0, 0, 1], [0, 0, 0, 1, 0, 0, 0, 0, 0, 1, 0, 0, 0, 0, 0, 0, 0, 1, 0, 1, 0, 0, 0, 0, 0, 0, 1, 0, 0, 0, 0, 0], [0, 0, 0, 0, 0, 0, 0, 0, 0, 1, 0, 0, 1, 0, 0, 1, 0, 0, 0, 0, 1, 1, 0, 0, 0, 1, 0, 0, 0, 1, 1, 1], [0, 0, 0, 0, 1, 0, 0, 0, 0, 0, 0, 0, 0, 1, 0, 0, 1, 0, 0, 1, 0, 0, 0, 0, 1, 0, 1, 0, 0, 0, 0, 0]]\n"
     ]
    }
   ],
   "source": [
    "print trainmMat"
   ]
  },
  {
   "cell_type": "code",
   "execution_count": 18,
   "metadata": {
    "collapsed": true
   },
   "outputs": [],
   "source": [
    "'''\n",
    "给出属于侮辱性文档的概率以及两个类别的概率向量\n",
    "trainmMat 数据文档的向量\n",
    "listClasses 标签属性。\n",
    "'''\n",
    "p0v,p1v,pAb = bayes.trainNB0(trainmMat,listClasses)"
   ]
  },
  {
   "cell_type": "code",
   "execution_count": 37,
   "metadata": {},
   "outputs": [
    {
     "name": "stdout",
     "output_type": "stream",
     "text": [
      "[0, 1, 0, 1, 0, 1]\n",
      "6\n",
      "32\n",
      "[]\n",
      "[]\n",
      "7\n"
     ]
    }
   ],
   "source": [
    "print listClasses  #标签属性\n",
    "print len(trainmMat)\n",
    "print len(trainmMat[0])\n",
    "print ones(trainmMat[0])\n",
    "print  ones(trainmMat[0]) + [0, 0, 1, 0, 0, 0, 1, 0, 0, 0, 1, 0, 0, 0, 0, 0, 0, 0, 1, 0, 0, 0, 0, 1, 1, 0, 0, 0, 0, 0, 0, 1]\n",
    "print sum([0, 0, 1, 0, 0, 0, 1, 0, 0, 0, 1, 0, 0, 0, 0, 0, 0, 0, 1, 0, 0, 0, 0, 1, 1, 0, 0, 0, 0, 0, 0, 1])"
   ]
  },
  {
   "cell_type": "code",
   "execution_count": 19,
   "metadata": {},
   "outputs": [
    {
     "data": {
      "text/plain": [
       "0.5"
      ]
     },
     "execution_count": 19,
     "metadata": {},
     "output_type": "execute_result"
    }
   ],
   "source": [
    "pAb"
   ]
  },
  {
   "cell_type": "code",
   "execution_count": 21,
   "metadata": {},
   "outputs": [
    {
     "data": {
      "text/plain": [
       "array([-2.56494936, -2.56494936, -2.56494936, -3.25809654, -3.25809654,\n",
       "       -2.56494936, -2.56494936, -2.56494936, -3.25809654, -2.56494936,\n",
       "       -2.56494936, -2.56494936, -2.56494936, -3.25809654, -3.25809654,\n",
       "       -2.15948425, -3.25809654, -3.25809654, -2.56494936, -3.25809654,\n",
       "       -2.56494936, -2.56494936, -3.25809654, -2.56494936, -2.56494936,\n",
       "       -2.56494936, -3.25809654, -2.56494936, -3.25809654, -2.56494936,\n",
       "       -2.56494936, -1.87180218])"
      ]
     },
     "execution_count": 21,
     "metadata": {},
     "output_type": "execute_result"
    }
   ],
   "source": [
    "p0v"
   ]
  },
  {
   "cell_type": "code",
   "execution_count": 22,
   "metadata": {},
   "outputs": [
    {
     "data": {
      "text/plain": [
       "array([-3.04452244, -3.04452244, -3.04452244, -2.35137526, -2.35137526,\n",
       "       -3.04452244, -3.04452244, -3.04452244, -2.35137526, -2.35137526,\n",
       "       -3.04452244, -3.04452244, -3.04452244, -2.35137526, -2.35137526,\n",
       "       -2.35137526, -2.35137526, -2.35137526, -3.04452244, -1.94591015,\n",
       "       -3.04452244, -2.35137526, -2.35137526, -3.04452244, -1.94591015,\n",
       "       -3.04452244, -1.65822808, -3.04452244, -2.35137526, -3.04452244,\n",
       "       -3.04452244, -3.04452244])"
      ]
     },
     "execution_count": 22,
     "metadata": {},
     "output_type": "execute_result"
    }
   ],
   "source": [
    "p1v"
   ]
  },
  {
   "cell_type": "markdown",
   "metadata": {},
   "source": [
    "### 4.5.3 测试算法：根据现实情况修改分类器"
   ]
  },
  {
   "cell_type": "code",
   "execution_count": null,
   "metadata": {
    "collapsed": true
   },
   "outputs": [],
   "source": []
  },
  {
   "cell_type": "code",
   "execution_count": null,
   "metadata": {
    "collapsed": true
   },
   "outputs": [],
   "source": [
    "def classifyNB(vec2Classify, p0Vec, p1Vec, pClass1):\n",
    "    p1 = sum(vec2Classify * p1Vec) + log(pClass1)    #element-wise mult\n",
    "    p0 = sum(vec2Classify * p0Vec) + log(1.0 - pClass1)\n",
    "    if p1 > p0:\n",
    "        return 1\n",
    "    else: \n",
    "        return 0\n",
    "    \n",
    "def testingNB():\n",
    "    listOPosts,listClasses = loadDataSet()\n",
    "    myVocabList = createVocabList(listOPosts)\n",
    "    trainMat=[]\n",
    "    for postinDoc in listOPosts:\n",
    "        trainMat.append(setOfWords2Vec(myVocabList, postinDoc))\n",
    "    p0V,p1V,pAb = trainNB0(array(trainMat),array(listClasses))\n",
    "    testEntry = ['love', 'my', 'dalmation']\n",
    "    thisDoc = array(setOfWords2Vec(myVocabList, testEntry))\n",
    "    print testEntry,'classified as: ',classifyNB(thisDoc,p0V,p1V,pAb)\n",
    "    testEntry = ['stupid', 'garbage']\n",
    "    thisDoc = array(setOfWords2Vec(myVocabList, testEntry))\n",
    "    print testEntry,'classified as: ',classifyNB(thisDoc,p0V,p1V,pAb)"
   ]
  },
  {
   "cell_type": "code",
   "execution_count": 38,
   "metadata": {},
   "outputs": [
    {
     "name": "stdout",
     "output_type": "stream",
     "text": [
      "['love', 'my', 'dalmation'] classified as:  0\n",
      "['stupid', 'garbage'] classified as:  1\n"
     ]
    }
   ],
   "source": [
    "bayes.testingNB()"
   ]
  },
  {
   "cell_type": "markdown",
   "metadata": {},
   "source": [
    "### 4.5.4 文档词袋模型"
   ]
  },
  {
   "cell_type": "markdown",
   "metadata": {},
   "source": [
    "#### 程序4-4 朴素贝叶斯词袋模型"
   ]
  },
  {
   "cell_type": "code",
   "execution_count": null,
   "metadata": {
    "collapsed": true
   },
   "outputs": [],
   "source": [
    "def bagOfWords2VecMN(vocabList, inputSet):\n",
    "    returnVec = [0]*len(vocabList)\n",
    "    for word in inputSet:\n",
    "        if word in vocabList:\n",
    "            returnVec[vocabList.index(word)] += 1\n",
    "    return returnVec"
   ]
  },
  {
   "cell_type": "code",
   "execution_count": null,
   "metadata": {
    "collapsed": true
   },
   "outputs": [],
   "source": []
  },
  {
   "cell_type": "markdown",
   "metadata": {},
   "source": [
    "##  4.6 示列：使用朴素贝叶斯过滤垃圾邮件"
   ]
  },
  {
   "cell_type": "code",
   "execution_count": null,
   "metadata": {
    "collapsed": true
   },
   "outputs": [],
   "source": []
  },
  {
   "cell_type": "code",
   "execution_count": null,
   "metadata": {
    "collapsed": true
   },
   "outputs": [],
   "source": []
  },
  {
   "cell_type": "code",
   "execution_count": null,
   "metadata": {
    "collapsed": true
   },
   "outputs": [],
   "source": []
  },
  {
   "cell_type": "code",
   "execution_count": null,
   "metadata": {
    "collapsed": true
   },
   "outputs": [],
   "source": []
  }
 ],
 "metadata": {
  "kernelspec": {
   "display_name": "Python 2",
   "language": "python",
   "name": "python2"
  },
  "language_info": {
   "codemirror_mode": {
    "name": "ipython",
    "version": 2
   },
   "file_extension": ".py",
   "mimetype": "text/x-python",
   "name": "python",
   "nbconvert_exporter": "python",
   "pygments_lexer": "ipython2",
   "version": "2.7.13"
  }
 },
 "nbformat": 4,
 "nbformat_minor": 2
}
